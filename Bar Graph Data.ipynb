{
 "cells": [
  {
   "cell_type": "code",
   "execution_count": 1,
   "metadata": {
    "collapsed": true
   },
   "outputs": [],
   "source": [
    "import pandas as pd"
   ]
  },
  {
   "cell_type": "code",
   "execution_count": 3,
   "metadata": {
    "collapsed": false
   },
   "outputs": [],
   "source": [
    "stats2015 = pd.read_csv(\"the-counted-revised-2015.csv\")\n",
    "stats2016 = pd.read_csv(\"the-counted-revised-2016.csv\")"
   ]
  },
  {
   "cell_type": "code",
   "execution_count": 4,
   "metadata": {
    "collapsed": false
   },
   "outputs": [
    {
     "data": {
      "text/html": [
       "<div>\n",
       "<table border=\"1\" class=\"dataframe\">\n",
       "  <thead>\n",
       "    <tr style=\"text-align: right;\">\n",
       "      <th></th>\n",
       "      <th>Unnamed: 0</th>\n",
       "      <th>index</th>\n",
       "      <th>uid</th>\n",
       "      <th>name</th>\n",
       "      <th>age</th>\n",
       "      <th>gender</th>\n",
       "      <th>raceethnicity</th>\n",
       "      <th>month</th>\n",
       "      <th>day</th>\n",
       "      <th>year</th>\n",
       "      <th>streetaddress</th>\n",
       "      <th>city</th>\n",
       "      <th>state</th>\n",
       "      <th>classification</th>\n",
       "      <th>lawenforcementagency</th>\n",
       "      <th>armed</th>\n",
       "      <th>lat</th>\n",
       "      <th>lon</th>\n",
       "    </tr>\n",
       "  </thead>\n",
       "  <tbody>\n",
       "    <tr>\n",
       "      <th>0</th>\n",
       "      <td>0</td>\n",
       "      <td>0</td>\n",
       "      <td>2</td>\n",
       "      <td>Matthew Ajibade</td>\n",
       "      <td>22</td>\n",
       "      <td>Male</td>\n",
       "      <td>Black</td>\n",
       "      <td>January</td>\n",
       "      <td>1</td>\n",
       "      <td>2015</td>\n",
       "      <td>1050 Carl Griffin Dr</td>\n",
       "      <td>Savannah</td>\n",
       "      <td>GA</td>\n",
       "      <td>Death in custody</td>\n",
       "      <td>Chatham County Sheriff's Office</td>\n",
       "      <td>No</td>\n",
       "      <td>32.083541</td>\n",
       "      <td>-81.099834</td>\n",
       "    </tr>\n",
       "    <tr>\n",
       "      <th>1</th>\n",
       "      <td>1</td>\n",
       "      <td>1</td>\n",
       "      <td>4</td>\n",
       "      <td>Lewis Lembke</td>\n",
       "      <td>47</td>\n",
       "      <td>Male</td>\n",
       "      <td>White</td>\n",
       "      <td>January</td>\n",
       "      <td>2</td>\n",
       "      <td>2015</td>\n",
       "      <td>4505 SW Masters Loop</td>\n",
       "      <td>Aloha</td>\n",
       "      <td>OR</td>\n",
       "      <td>Gunshot</td>\n",
       "      <td>Washington County Sheriff's Office</td>\n",
       "      <td>Firearm</td>\n",
       "      <td>45.494284</td>\n",
       "      <td>-122.867045</td>\n",
       "    </tr>\n",
       "    <tr>\n",
       "      <th>2</th>\n",
       "      <td>2</td>\n",
       "      <td>2</td>\n",
       "      <td>5</td>\n",
       "      <td>Michael Kocher Jr</td>\n",
       "      <td>19</td>\n",
       "      <td>Male</td>\n",
       "      <td>White</td>\n",
       "      <td>January</td>\n",
       "      <td>3</td>\n",
       "      <td>2015</td>\n",
       "      <td>2600 Kaumualii Hwy</td>\n",
       "      <td>Kaumakani</td>\n",
       "      <td>HI</td>\n",
       "      <td>Struck by vehicle</td>\n",
       "      <td>Kauai Police Department</td>\n",
       "      <td>No</td>\n",
       "      <td>21.918204</td>\n",
       "      <td>-159.618301</td>\n",
       "    </tr>\n",
       "    <tr>\n",
       "      <th>3</th>\n",
       "      <td>3</td>\n",
       "      <td>3</td>\n",
       "      <td>6</td>\n",
       "      <td>John Quintero</td>\n",
       "      <td>23</td>\n",
       "      <td>Male</td>\n",
       "      <td>Hispanic/Latino</td>\n",
       "      <td>January</td>\n",
       "      <td>3</td>\n",
       "      <td>2015</td>\n",
       "      <td>500 North Oliver Ave</td>\n",
       "      <td>Wichita</td>\n",
       "      <td>KS</td>\n",
       "      <td>Gunshot</td>\n",
       "      <td>Wichita Police Department</td>\n",
       "      <td>No</td>\n",
       "      <td>37.692236</td>\n",
       "      <td>-97.337545</td>\n",
       "    </tr>\n",
       "    <tr>\n",
       "      <th>4</th>\n",
       "      <td>4</td>\n",
       "      <td>4</td>\n",
       "      <td>7</td>\n",
       "      <td>Tim Elliott</td>\n",
       "      <td>53</td>\n",
       "      <td>Male</td>\n",
       "      <td>Asian/Pacific Islander</td>\n",
       "      <td>January</td>\n",
       "      <td>2</td>\n",
       "      <td>2015</td>\n",
       "      <td>600 E Island Lake Dr</td>\n",
       "      <td>Shelton</td>\n",
       "      <td>WA</td>\n",
       "      <td>Gunshot</td>\n",
       "      <td>Mason County Sheriff's Office</td>\n",
       "      <td>Firearm</td>\n",
       "      <td>47.215094</td>\n",
       "      <td>-123.100707</td>\n",
       "    </tr>\n",
       "  </tbody>\n",
       "</table>\n",
       "</div>"
      ],
      "text/plain": [
       "   Unnamed: 0  index  uid               name age gender  \\\n",
       "0           0      0    2    Matthew Ajibade  22   Male   \n",
       "1           1      1    4       Lewis Lembke  47   Male   \n",
       "2           2      2    5  Michael Kocher Jr  19   Male   \n",
       "3           3      3    6      John Quintero  23   Male   \n",
       "4           4      4    7        Tim Elliott  53   Male   \n",
       "\n",
       "            raceethnicity    month  day  year         streetaddress  \\\n",
       "0                   Black  January    1  2015  1050 Carl Griffin Dr   \n",
       "1                   White  January    2  2015  4505 SW Masters Loop   \n",
       "2                   White  January    3  2015    2600 Kaumualii Hwy   \n",
       "3         Hispanic/Latino  January    3  2015  500 North Oliver Ave   \n",
       "4  Asian/Pacific Islander  January    2  2015  600 E Island Lake Dr   \n",
       "\n",
       "        city state     classification                lawenforcementagency  \\\n",
       "0   Savannah    GA   Death in custody     Chatham County Sheriff's Office   \n",
       "1      Aloha    OR            Gunshot  Washington County Sheriff's Office   \n",
       "2  Kaumakani    HI  Struck by vehicle             Kauai Police Department   \n",
       "3    Wichita    KS            Gunshot           Wichita Police Department   \n",
       "4    Shelton    WA            Gunshot       Mason County Sheriff's Office   \n",
       "\n",
       "     armed        lat         lon  \n",
       "0       No  32.083541  -81.099834  \n",
       "1  Firearm  45.494284 -122.867045  \n",
       "2       No  21.918204 -159.618301  \n",
       "3       No  37.692236  -97.337545  \n",
       "4  Firearm  47.215094 -123.100707  "
      ]
     },
     "execution_count": 4,
     "metadata": {},
     "output_type": "execute_result"
    }
   ],
   "source": [
    "stats2015.head()"
   ]
  },
  {
   "cell_type": "code",
   "execution_count": 5,
   "metadata": {
    "collapsed": false
   },
   "outputs": [
    {
     "data": {
      "text/html": [
       "<div>\n",
       "<table border=\"1\" class=\"dataframe\">\n",
       "  <thead>\n",
       "    <tr style=\"text-align: right;\">\n",
       "      <th></th>\n",
       "      <th>Unnamed: 0</th>\n",
       "      <th>index</th>\n",
       "      <th>uid</th>\n",
       "      <th>name</th>\n",
       "      <th>age</th>\n",
       "      <th>gender</th>\n",
       "      <th>raceethnicity</th>\n",
       "      <th>month</th>\n",
       "      <th>day</th>\n",
       "      <th>year</th>\n",
       "      <th>streetaddress</th>\n",
       "      <th>city</th>\n",
       "      <th>state</th>\n",
       "      <th>classification</th>\n",
       "      <th>lawenforcementagency</th>\n",
       "      <th>armed</th>\n",
       "      <th>lat</th>\n",
       "      <th>lon</th>\n",
       "    </tr>\n",
       "  </thead>\n",
       "  <tbody>\n",
       "    <tr>\n",
       "      <th>0</th>\n",
       "      <td>0</td>\n",
       "      <td>0</td>\n",
       "      <td>2016406</td>\n",
       "      <td>Terry Frost</td>\n",
       "      <td>20</td>\n",
       "      <td>Male</td>\n",
       "      <td>Black</td>\n",
       "      <td>May</td>\n",
       "      <td>25</td>\n",
       "      <td>2016</td>\n",
       "      <td>2692 Madison Rd</td>\n",
       "      <td>Cincinnati</td>\n",
       "      <td>OH</td>\n",
       "      <td>Gunshot</td>\n",
       "      <td>Cincinnati Police Department</td>\n",
       "      <td>Firearm</td>\n",
       "      <td>39.101454</td>\n",
       "      <td>-84.512460</td>\n",
       "    </tr>\n",
       "    <tr>\n",
       "      <th>1</th>\n",
       "      <td>1</td>\n",
       "      <td>1</td>\n",
       "      <td>201681</td>\n",
       "      <td>Jeffry Graves</td>\n",
       "      <td>62</td>\n",
       "      <td>Male</td>\n",
       "      <td>White</td>\n",
       "      <td>January</td>\n",
       "      <td>31</td>\n",
       "      <td>2016</td>\n",
       "      <td>36500 Bridgepointe Dr</td>\n",
       "      <td>Newark</td>\n",
       "      <td>CA</td>\n",
       "      <td>Gunshot</td>\n",
       "      <td>Newark Police Department</td>\n",
       "      <td>Firearm</td>\n",
       "      <td>37.529659</td>\n",
       "      <td>-122.040240</td>\n",
       "    </tr>\n",
       "    <tr>\n",
       "      <th>2</th>\n",
       "      <td>2</td>\n",
       "      <td>2</td>\n",
       "      <td>20161</td>\n",
       "      <td>Joshua Sisson</td>\n",
       "      <td>30</td>\n",
       "      <td>Male</td>\n",
       "      <td>White</td>\n",
       "      <td>January</td>\n",
       "      <td>1</td>\n",
       "      <td>2016</td>\n",
       "      <td>4200 6th Ave</td>\n",
       "      <td>San Diego</td>\n",
       "      <td>CA</td>\n",
       "      <td>Gunshot</td>\n",
       "      <td>San Diego Police Department</td>\n",
       "      <td>Knife</td>\n",
       "      <td>32.717421</td>\n",
       "      <td>-117.162771</td>\n",
       "    </tr>\n",
       "    <tr>\n",
       "      <th>3</th>\n",
       "      <td>3</td>\n",
       "      <td>3</td>\n",
       "      <td>20163</td>\n",
       "      <td>Sean O'Brien</td>\n",
       "      <td>37</td>\n",
       "      <td>Male</td>\n",
       "      <td>White</td>\n",
       "      <td>January</td>\n",
       "      <td>2</td>\n",
       "      <td>2016</td>\n",
       "      <td>100 Washington St</td>\n",
       "      <td>Livingston</td>\n",
       "      <td>MT</td>\n",
       "      <td>Gunshot</td>\n",
       "      <td>Livingston Police Department</td>\n",
       "      <td>Knife</td>\n",
       "      <td>45.662436</td>\n",
       "      <td>-110.561040</td>\n",
       "    </tr>\n",
       "    <tr>\n",
       "      <th>4</th>\n",
       "      <td>4</td>\n",
       "      <td>4</td>\n",
       "      <td>201653</td>\n",
       "      <td>Lance Light</td>\n",
       "      <td>54</td>\n",
       "      <td>Male</td>\n",
       "      <td>White</td>\n",
       "      <td>January</td>\n",
       "      <td>2</td>\n",
       "      <td>2016</td>\n",
       "      <td>I-20 and Texas Hwy 70</td>\n",
       "      <td>Sweetwater</td>\n",
       "      <td>TX</td>\n",
       "      <td>Gunshot</td>\n",
       "      <td>Sweetwater Police Department</td>\n",
       "      <td>Firearm</td>\n",
       "      <td>32.470952</td>\n",
       "      <td>-100.405938</td>\n",
       "    </tr>\n",
       "  </tbody>\n",
       "</table>\n",
       "</div>"
      ],
      "text/plain": [
       "   Unnamed: 0  index      uid           name age gender raceethnicity  \\\n",
       "0           0      0  2016406    Terry Frost  20   Male         Black   \n",
       "1           1      1   201681  Jeffry Graves  62   Male         White   \n",
       "2           2      2    20161  Joshua Sisson  30   Male         White   \n",
       "3           3      3    20163   Sean O'Brien  37   Male         White   \n",
       "4           4      4   201653    Lance Light  54   Male         White   \n",
       "\n",
       "     month  day  year          streetaddress        city state classification  \\\n",
       "0      May   25  2016        2692 Madison Rd  Cincinnati    OH        Gunshot   \n",
       "1  January   31  2016  36500 Bridgepointe Dr      Newark    CA        Gunshot   \n",
       "2  January    1  2016           4200 6th Ave   San Diego    CA        Gunshot   \n",
       "3  January    2  2016      100 Washington St  Livingston    MT        Gunshot   \n",
       "4  January    2  2016  I-20 and Texas Hwy 70  Sweetwater    TX        Gunshot   \n",
       "\n",
       "           lawenforcementagency    armed        lat         lon  \n",
       "0  Cincinnati Police Department  Firearm  39.101454  -84.512460  \n",
       "1      Newark Police Department  Firearm  37.529659 -122.040240  \n",
       "2   San Diego Police Department    Knife  32.717421 -117.162771  \n",
       "3  Livingston Police Department    Knife  45.662436 -110.561040  \n",
       "4  Sweetwater Police Department  Firearm  32.470952 -100.405938  "
      ]
     },
     "execution_count": 5,
     "metadata": {},
     "output_type": "execute_result"
    }
   ],
   "source": [
    "stats2016.head()"
   ]
  },
  {
   "cell_type": "code",
   "execution_count": 10,
   "metadata": {
    "collapsed": false
   },
   "outputs": [],
   "source": [
    "stats2015 = stats2015.drop(['Unnamed: 0'],axis=1)\n",
    "stats2016 = stats2016.drop(['Unnamed: 0'],axis=1)"
   ]
  },
  {
   "cell_type": "code",
   "execution_count": 28,
   "metadata": {
    "collapsed": false
   },
   "outputs": [],
   "source": [
    "armed2015 = stats2015.groupby('armed')['index'].count()\n",
    "armed2016 = stats2016.groupby('armed')['index'].count()"
   ]
  },
  {
   "cell_type": "code",
   "execution_count": 29,
   "metadata": {
    "collapsed": true
   },
   "outputs": [],
   "source": [
    "race2015 = stats2015.groupby('raceethnicity')['index'].count()\n",
    "race2016 = stats2016.groupby('raceethnicity')['index'].count()"
   ]
  },
  {
   "cell_type": "code",
   "execution_count": 30,
   "metadata": {
    "collapsed": true
   },
   "outputs": [],
   "source": [
    "how2015 = stats2015.groupby('classification')['index'].count()\n",
    "how2016 = stats2016.groupby('classification')['index'].count()"
   ]
  },
  {
   "cell_type": "code",
   "execution_count": 31,
   "metadata": {
    "collapsed": false
   },
   "outputs": [
    {
     "data": {
      "text/plain": [
       "armed\n",
       "Disputed                5\n",
       "Firearm               554\n",
       "Knife                 152\n",
       "No                    235\n",
       "Non-lethal firearm     47\n",
       "Other                  64\n",
       "Unknown                45\n",
       "Vehicle                44\n",
       "Name: index, dtype: int64"
      ]
     },
     "execution_count": 31,
     "metadata": {},
     "output_type": "execute_result"
    }
   ],
   "source": [
    "armed2015"
   ]
  },
  {
   "cell_type": "code",
   "execution_count": 32,
   "metadata": {
    "collapsed": false
   },
   "outputs": [
    {
     "data": {
      "text/plain": [
       "raceethnicity\n",
       "Arab-American               4\n",
       "Asian/Pacific Islander     24\n",
       "Black                     307\n",
       "Hispanic/Latino           195\n",
       "Native American            13\n",
       "Other                       1\n",
       "Unknown                    18\n",
       "White                     584\n",
       "Name: index, dtype: int64"
      ]
     },
     "execution_count": 32,
     "metadata": {},
     "output_type": "execute_result"
    }
   ],
   "source": [
    "race2015"
   ]
  },
  {
   "cell_type": "code",
   "execution_count": 50,
   "metadata": {
    "collapsed": false
   },
   "outputs": [],
   "source": [
    "how2015.iloc?"
   ]
  },
  {
   "cell_type": "code",
   "execution_count": 38,
   "metadata": {
    "collapsed": false
   },
   "outputs": [],
   "source": [
    "armed2015.to_json('/Volumes/USB/d3/armed2015.json')\n",
    "race2015.to_json('/Volumes/USB/d3/race2015.json')\n",
    "how2015.to_json('/Volumes/USB/d3/how2015.json')\n",
    "armed2016.to_json('/Volumes/USB/d3/armed2016.json')\n",
    "race2016.to_json('/Volumes/USB/d3/race2016.json')\n",
    "how2016.to_json('/Volumes/USB/d3/how2016.json')"
   ]
  },
  {
   "cell_type": "code",
   "execution_count": 39,
   "metadata": {
    "collapsed": false
   },
   "outputs": [],
   "source": [
    "from matplotlib import pyplot as plt"
   ]
  },
  {
   "cell_type": "code",
   "execution_count": 45,
   "metadata": {
    "collapsed": false
   },
   "outputs": [],
   "source": [
    "plt.pie(how2015,labels=how2015)\n",
    "plt.show();"
   ]
  },
  {
   "cell_type": "code",
   "execution_count": 51,
   "metadata": {
    "collapsed": false
   },
   "outputs": [
    {
     "data": {
      "text/plain": [
       "armed\n",
       "Disputed                5\n",
       "Firearm               554\n",
       "Knife                 152\n",
       "No                    235\n",
       "Non-lethal firearm     47\n",
       "Other                  64\n",
       "Unknown                45\n",
       "Vehicle                44\n",
       "Name: index, dtype: int64"
      ]
     },
     "execution_count": 51,
     "metadata": {},
     "output_type": "execute_result"
    }
   ],
   "source": [
    "armed2015"
   ]
  },
  {
   "cell_type": "code",
   "execution_count": 52,
   "metadata": {
    "collapsed": false
   },
   "outputs": [
    {
     "data": {
      "text/plain": [
       "armed\n",
       "Disputed               11\n",
       "Firearm               506\n",
       "Knife                 159\n",
       "No                    170\n",
       "Non-lethal firearm     46\n",
       "Other                  84\n",
       "Unknown                82\n",
       "Vehicle                35\n",
       "Name: index, dtype: int64"
      ]
     },
     "execution_count": 52,
     "metadata": {},
     "output_type": "execute_result"
    }
   ],
   "source": [
    "armed2016"
   ]
  },
  {
   "cell_type": "code",
   "execution_count": 53,
   "metadata": {
    "collapsed": false
   },
   "outputs": [
    {
     "data": {
      "image/png": "[encoded data removed]",
      "text/plain": [
       "<matplotlib.figure.Figure at 0x11a460780>"
      ]
     },
     "metadata": {},
     "output_type": "display_data"
    }
   ],
   "source": [
    "plt.pie(armed2015)\n",
    "plt.show();"
   ]
  },
  {
   "cell_type": "code",
   "execution_count": 54,
   "metadata": {
    "collapsed": false
   },
   "outputs": [
    {
     "data": {
      "image/png": "[encoded data removed]",
      "text/plain": [
       "<matplotlib.figure.Figure at 0x11a5b8278>"
      ]
     },
     "metadata": {},
     "output_type": "display_data"
    }
   ],
   "source": [
    "plt.pie(armed2016)\n",
    "plt.show();"
   ]
  },
  {
   "cell_type": "code",
   "execution_count": 58,
   "metadata": {
    "collapsed": false
   },
   "outputs": [
    {
     "data": {
      "image/png": "[encoded data removed]",
      "text/plain": [
       "<matplotlib.figure.Figure at 0x11a62aa58>"
      ]
     },
     "metadata": {},
     "output_type": "display_data"
    }
   ],
   "source": [
    "plt.bar(range(len(how2015)),how2015)\n",
    "plt.show();"
   ]
  },
  {
   "cell_type": "code",
   "execution_count": 59,
   "metadata": {
    "collapsed": false
   },
   "outputs": [
    {
     "data": {
      "text/html": [
       "<div>\n",
       "<table border=\"1\" class=\"dataframe\">\n",
       "  <thead>\n",
       "    <tr style=\"text-align: right;\">\n",
       "      <th></th>\n",
       "      <th>index</th>\n",
       "      <th>uid</th>\n",
       "      <th>name</th>\n",
       "      <th>age</th>\n",
       "      <th>gender</th>\n",
       "      <th>raceethnicity</th>\n",
       "      <th>month</th>\n",
       "      <th>day</th>\n",
       "      <th>year</th>\n",
       "      <th>streetaddress</th>\n",
       "      <th>city</th>\n",
       "      <th>state</th>\n",
       "      <th>classification</th>\n",
       "      <th>lawenforcementagency</th>\n",
       "      <th>armed</th>\n",
       "      <th>lat</th>\n",
       "      <th>lon</th>\n",
       "    </tr>\n",
       "  </thead>\n",
       "  <tbody>\n",
       "    <tr>\n",
       "      <th>782</th>\n",
       "      <td>782</td>\n",
       "      <td>804</td>\n",
       "      <td>Mohamed Ibrahim</td>\n",
       "      <td>28</td>\n",
       "      <td>Male</td>\n",
       "      <td>Other</td>\n",
       "      <td>September</td>\n",
       "      <td>6</td>\n",
       "      <td>2015</td>\n",
       "      <td>2800 Holly St</td>\n",
       "      <td>Shreveport</td>\n",
       "      <td>LA</td>\n",
       "      <td>Gunshot</td>\n",
       "      <td>Shreveport Police Department</td>\n",
       "      <td>Firearm</td>\n",
       "      <td>32.522183</td>\n",
       "      <td>-93.765194</td>\n",
       "    </tr>\n",
       "  </tbody>\n",
       "</table>\n",
       "</div>"
      ],
      "text/plain": [
       "     index  uid             name age gender raceethnicity      month  day  \\\n",
       "782    782  804  Mohamed Ibrahim  28   Male         Other  September    6   \n",
       "\n",
       "     year  streetaddress        city state classification  \\\n",
       "782  2015  2800 Holly St  Shreveport    LA        Gunshot   \n",
       "\n",
       "             lawenforcementagency    armed        lat        lon  \n",
       "782  Shreveport Police Department  Firearm  32.522183 -93.765194  "
      ]
     },
     "execution_count": 59,
     "metadata": {},
     "output_type": "execute_result"
    }
   ],
   "source": [
    "stats2015[stats2015['raceethnicity'] == 'Other']"
   ]
  },
  {
   "cell_type": "code",
   "execution_count": 61,
   "metadata": {
    "collapsed": false
   },
   "outputs": [
    {
     "name": "stderr",
     "output_type": "stream",
     "text": [
      "/Users/jaredarcilla/anaconda3/lib/python3.6/site-packages/ipykernel/__main__.py:4: SettingWithCopyWarning: \n",
      "A value is trying to be set on a copy of a slice from a DataFrame\n",
      "\n",
      "See the caveats in the documentation: http://pandas.pydata.org/pandas-docs/stable/indexing.html#indexing-view-versus-copy\n"
     ]
    }
   ],
   "source": [
    "#looking through the database's sources, there seems to be no evidence that Mohamed Ibrahim is qualified for the race\n",
    "# section of 'Other'. Therefore, I plan to change this statistic to 'Unknown'.\n",
    "\n",
    "stats2015['raceethnicity'][782] = 'Unknown'"
   ]
  },
  {
   "cell_type": "code",
   "execution_count": 69,
   "metadata": {
    "collapsed": false
   },
   "outputs": [],
   "source": [
    "race2015 = stats2015.groupby('raceethnicity')['index'].count()"
   ]
  },
  {
   "cell_type": "code",
   "execution_count": 70,
   "metadata": {
    "collapsed": true
   },
   "outputs": [],
   "source": [
    "race2015.to_json('/Volumes/USB/d3/race2015.json')"
   ]
  },
  {
   "cell_type": "code",
   "execution_count": 68,
   "metadata": {
    "collapsed": false
   },
   "outputs": [
    {
     "data": {
      "text/plain": [
       "raceethnicity\n",
       "Arab-American               4\n",
       "Asian/Pacific Islander     24\n",
       "Black                     307\n",
       "Hispanic/Latino           195\n",
       "Native American            13\n",
       "Other                       1\n",
       "Unknown                    18\n",
       "White                     584\n",
       "Name: index, dtype: int64"
      ]
     },
     "execution_count": 68,
     "metadata": {},
     "output_type": "execute_result"
    }
   ],
   "source": []
  },
  {
   "cell_type": "code",
   "execution_count": null,
   "metadata": {
    "collapsed": true
   },
   "outputs": [],
   "source": []
  }
 ],
 "metadata": {
  "kernelspec": {
   "display_name": "Python 3",
   "language": "python",
   "name": "python3"
  },
  "language_info": {
   "codemirror_mode": {
    "name": "ipython",
    "version": 3
   },
   "file_extension": ".py",
   "mimetype": "text/x-python",
   "name": "python",
   "nbconvert_exporter": "python",
   "pygments_lexer": "ipython3",
   "version": "3.6.0"
  }
 },
 "nbformat": 4,
 "nbformat_minor": 2
}
